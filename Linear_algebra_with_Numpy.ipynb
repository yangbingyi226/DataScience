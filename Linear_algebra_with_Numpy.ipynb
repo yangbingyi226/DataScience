{
  "nbformat": 4,
  "nbformat_minor": 0,
  "metadata": {
    "colab": {
      "name": "Linear algebra with Numpy.ipynb",
      "provenance": []
    },
    "kernelspec": {
      "name": "python3",
      "display_name": "Python 3"
    }
  },
  "cells": [
    {
      "cell_type": "markdown",
      "metadata": {
        "id": "13yTKh4S2yyX",
        "colab_type": "text"
      },
      "source": [
        "# **Linear algebra with Numpy**"
      ]
    },
    {
      "cell_type": "markdown",
      "metadata": {
        "id": "W7zpSIy225uP",
        "colab_type": "text"
      },
      "source": [
        "## **Manipulating matrices**"
      ]
    },
    {
      "cell_type": "code",
      "metadata": {
        "id": "llArwxnF2xDi",
        "colab_type": "code",
        "colab": {}
      },
      "source": [
        "import numpy as np"
      ],
      "execution_count": 0,
      "outputs": []
    },
    {
      "cell_type": "code",
      "metadata": {
        "id": "j4Aimbq83C5N",
        "colab_type": "code",
        "colab": {}
      },
      "source": [
        "A = np.matrix([[5, 6, 2],\n",
        "               [4, 7, 19],\n",
        "               [0, 3, 12]])"
      ],
      "execution_count": 0,
      "outputs": []
    },
    {
      "cell_type": "code",
      "metadata": {
        "id": "6rCL2wY93Das",
        "colab_type": "code",
        "colab": {}
      },
      "source": [
        "A"
      ],
      "execution_count": 0,
      "outputs": []
    },
    {
      "cell_type": "code",
      "metadata": {
        "id": "-03CEHBo3Ei8",
        "colab_type": "code",
        "colab": {}
      },
      "source": [
        ""
      ],
      "execution_count": 0,
      "outputs": []
    }
  ]
}