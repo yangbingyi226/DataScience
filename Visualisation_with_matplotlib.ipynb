{
  "nbformat": 4,
  "nbformat_minor": 0,
  "metadata": {
    "colab": {
      "name": "Visualisation with matplotlib.ipynb",
      "provenance": [],
      "include_colab_link": true
    },
    "kernelspec": {
      "name": "python3",
      "display_name": "Python 3"
    }
  },
  "cells": [
    {
      "cell_type": "markdown",
      "metadata": {
        "id": "view-in-github",
        "colab_type": "text"
      },
      "source": [
        "<a href=\"https://colab.research.google.com/github/yangbingyi226/DataScience/blob/master/Visualisation_with_matplotlib.ipynb\" target=\"_parent\"><img src=\"https://colab.research.google.com/assets/colab-badge.svg\" alt=\"Open In Colab\"/></a>"
      ]
    },
    {
      "cell_type": "markdown",
      "metadata": {
        "id": "Q0hWrhcO7tt6",
        "colab_type": "text"
      },
      "source": [
        "# **Visualisation with matplotlib**"
      ]
    },
    {
      "cell_type": "markdown",
      "metadata": {
        "id": "aU3vXxGN71fW",
        "colab_type": "text"
      },
      "source": [
        "## **Creating scatter plots**"
      ]
    },
    {
      "cell_type": "code",
      "metadata": {
        "id": "y7qnr0S27rpy",
        "colab_type": "code",
        "colab": {}
      },
      "source": [
        "xs = range(1, 25)\n",
        "ys = [1 / x for x in xs]"
      ],
      "execution_count": 0,
      "outputs": []
    },
    {
      "cell_type": "code",
      "metadata": {
        "id": "pLCcySL77929",
        "colab_type": "code",
        "colab": {}
      },
      "source": [
        "%matplotlib inline"
      ],
      "execution_count": 0,
      "outputs": []
    },
    {
      "cell_type": "code",
      "metadata": {
        "id": "vwd7eu8Y7_zn",
        "colab_type": "code",
        "outputId": "592e45e2-4858-40c3-c048-2959bae0e1e5",
        "colab": {
          "base_uri": "https://localhost:8080/",
          "height": 265
        }
      },
      "source": [
        "import matplotlib.pyplot as plt\n",
        "plt.scatter(xs, ys);"
      ],
      "execution_count": 4,
      "outputs": [
        {
          "output_type": "display_data",
          "data": {
            "image/png": "[encoded data removed]",
            "text/plain": [
              "<Figure size 432x288 with 1 Axes>"
            ]
          },
          "metadata": {
            "tags": []
          }
        }
      ]
    },
    {
      "cell_type": "code",
      "metadata": {
        "id": "TIfs3Mxn8AnI",
        "colab_type": "code",
        "colab": {}
      },
      "source": [
        "zs = [1 / (25 - x) for x in xs]"
      ],
      "execution_count": 0,
      "outputs": []
    },
    {
      "cell_type": "code",
      "metadata": {
        "id": "331CKf-B8DyL",
        "colab_type": "code",
        "outputId": "7611faf7-1950-4f0b-e698-67940f1bf1d4",
        "colab": {
          "base_uri": "https://localhost:8080/",
          "height": 265
        }
      },
      "source": [
        "plt.scatter(xs, ys)\n",
        "plt.scatter(xs, zs);"
      ],
      "execution_count": 6,
      "outputs": [
        {
          "output_type": "display_data",
          "data": {
            "image/png": "[encoded data removed]",
            "text/plain": [
              "<Figure size 432x288 with 1 Axes>"
            ]
          },
          "metadata": {
            "tags": []
          }
        }
      ]
    },
    {
      "cell_type": "code",
      "metadata": {
        "id": "DeRDbh6v8GGR",
        "colab_type": "code",
        "outputId": "846cfdb3-efe4-4f4b-c7d8-bbf03cdaeae9",
        "colab": {
          "base_uri": "https://localhost:8080/",
          "height": 295
        }
      },
      "source": [
        "plt.scatter(xs, ys, label=\"$y=\\\\frac{1}{x}$\")\n",
        "plt.scatter(xs, zs, label=\"$y=\\\\frac{1}{25 - x}$\")\n",
        "\n",
        "plt.xlabel(\"$x$\")\n",
        "plt.ylabel(\"Value\")\n",
        "plt.title(\"My scatter plot\")\n",
        "\n",
        "plt.legend();"
      ],
      "execution_count": 7,
      "outputs": [
        {
          "output_type": "display_data",
          "data": {
            "image/png": "[encoded data removed]",
            "text/plain": [
              "<Figure size 432x288 with 1 Axes>"
            ]
          },
          "metadata": {
            "tags": []
          }
        }
      ]
    },
    {
      "cell_type": "markdown",
      "metadata": {
        "id": "pax0Kblk8LSA",
        "colab_type": "text"
      },
      "source": [
        "EXERCISE:\n",
        "Plot a scatter plot with the following $x$, $y$ data:"
      ]
    },
    {
      "cell_type": "code",
      "metadata": {
        "id": "OXkGH-jH8Mwx",
        "colab_type": "code",
        "colab": {}
      },
      "source": [
        "xs = range(200)\n",
        "ys = [(100 - x) ** 2 for x in xs]"
      ],
      "execution_count": 0,
      "outputs": []
    },
    {
      "cell_type": "code",
      "metadata": {
        "id": "i9CojcTh8Qj9",
        "colab_type": "code",
        "outputId": "b8346cf4-12b1-44a1-8d1b-a2954b24f6be",
        "colab": {
          "base_uri": "https://localhost:8080/",
          "height": 282
        }
      },
      "source": [
        "plt.scatter(xs, ys)"
      ],
      "execution_count": 9,
      "outputs": [
        {
          "output_type": "execute_result",
          "data": {
            "text/plain": [
              "<matplotlib.collections.PathCollection at 0x7f2c6cff0a58>"
            ]
          },
          "metadata": {
            "tags": []
          },
          "execution_count": 9
        },
        {
          "output_type": "display_data",
          "data": {
            "image/png": "[encoded data removed]",
            "text/plain": [
              "<Figure size 432x288 with 1 Axes>"
            ]
          },
          "metadata": {
            "tags": []
          }
        }
      ]
    },
    {
      "cell_type": "markdown",
      "metadata": {
        "id": "TuqX1zcJ8eFo",
        "colab_type": "text"
      },
      "source": [
        "## **Creating histograms**"
      ]
    },
    {
      "cell_type": "code",
      "metadata": {
        "id": "mowVJAic8VIO",
        "colab_type": "code",
        "colab": {}
      },
      "source": [
        "import random  # Allows us to create random data\n",
        "number_of_data_points = 50000\n",
        "data = [random.expovariate(lambd=.5) for _ in range(number_of_data_points)]"
      ],
      "execution_count": 0,
      "outputs": []
    },
    {
      "cell_type": "code",
      "metadata": {
        "id": "BOIu3HUQ8reQ",
        "colab_type": "code",
        "outputId": "802bff03-2534-49c3-c03e-1b0ba4d79b7b",
        "colab": {
          "base_uri": "https://localhost:8080/",
          "height": 265
        }
      },
      "source": [
        "plt.hist(data);"
      ],
      "execution_count": 11,
      "outputs": [
        {
          "output_type": "display_data",
          "data": {
            "image/png": "[encoded data removed]",
            "text/plain": [
              "<Figure size 432x288 with 1 Axes>"
            ]
          },
          "metadata": {
            "tags": []
          }
        }
      ]
    },
    {
      "cell_type": "code",
      "metadata": {
        "id": "31BilUeR8toS",
        "colab_type": "code",
        "outputId": "550ff870-6db4-498e-911e-fb0f4095e638",
        "colab": {
          "base_uri": "https://localhost:8080/",
          "height": 265
        }
      },
      "source": [
        "plt.hist(data, bins=35, density=True);"
      ],
      "execution_count": 12,
      "outputs": [
        {
          "output_type": "display_data",
          "data": {
            "image/png": "[encoded data removed]",
            "text/plain": [
              "<Figure size 432x288 with 1 Axes>"
            ]
          },
          "metadata": {
            "tags": []
          }
        }
      ]
    },
    {
      "cell_type": "code",
      "metadata": {
        "id": "8TD3OTdR8vli",
        "colab_type": "code",
        "outputId": "8cdf0c8b-5c0c-4502-eee4-1489bbb24936",
        "colab": {
          "base_uri": "https://localhost:8080/",
          "height": 265
        }
      },
      "source": [
        "import math\n",
        "\n",
        "lambd = 0.5\n",
        "values = range(16)\n",
        "fs = [lambd * math.exp(- lambd * x ) for x in values]\n",
        "\n",
        "plt.hist(data, bins=35, density=True)\n",
        "plt.plot(values, fs);"
      ],
      "execution_count": 13,
      "outputs": [
        {
          "output_type": "display_data",
          "data": {
            "image/png": "[encoded data removed]",
            "text/plain": [
              "<Figure size 432x288 with 1 Axes>"
            ]
          },
          "metadata": {
            "tags": []
          }
        }
      ]
    },
    {
      "cell_type": "code",
      "metadata": {
        "id": "xa0OKCUh8zNO",
        "colab_type": "code",
        "outputId": "075dac8c-2d62-4af8-83c6-1bedb70e3db1",
        "colab": {
          "base_uri": "https://localhost:8080/",
          "height": 265
        }
      },
      "source": [
        "plt.hist(data, bins=35, density=True)\n",
        "plt.plot(values, fs)\n",
        "plt.savefig(\"the-exponential-distribution.pdf\")"
      ],
      "execution_count": 14,
      "outputs": [
        {
          "output_type": "display_data",
          "data": {
            "image/png": "[encoded data removed]",
            "text/plain": [
              "<Figure size 432x288 with 1 Axes>"
            ]
          },
          "metadata": {
            "tags": []
          }
        }
      ]
    },
    {
      "cell_type": "markdown",
      "metadata": {
        "id": "w-yPiKJ_87NW",
        "colab_type": "text"
      },
      "source": [
        "EXERCISE 1 : Using the same code as for the scatter plots: add a title, axes labels and legend to the histogram.\n"
      ]
    },
    {
      "cell_type": "code",
      "metadata": {
        "id": "z1QAnBWQ8_iJ",
        "colab_type": "code",
        "outputId": "40ff918a-60fd-421c-b7f8-6e1c0137c608",
        "colab": {
          "base_uri": "https://localhost:8080/",
          "height": 295
        }
      },
      "source": [
        "plt.hist(data, bins=35, density=True)\n",
        "plt.plot(values, fs, label = 'exp')\n",
        "##plt.savefig(\"the-exponential-distribution.pdf\")\n",
        "\n",
        "plt.xlabel(\"$x$\")\n",
        "plt.ylabel(\"Value\")\n",
        "plt.title(\"My histogram\")\n",
        "\n",
        "plt.legend();"
      ],
      "execution_count": 15,
      "outputs": [
        {
          "output_type": "display_data",
          "data": {
            "image/png": "[encoded data removed]",
            "text/plain": [
              "<Figure size 432x288 with 1 Axes>"
            ]
          },
          "metadata": {
            "tags": []
          }
        }
      ]
    },
    {
      "cell_type": "markdown",
      "metadata": {
        "id": "igrQB4u1_ALT",
        "colab_type": "text"
      },
      "source": [
        "EXERCISE 2 : Draw a histogram for randomly sampled data from the normal distribution (using random.normalvariate).\n"
      ]
    },
    {
      "cell_type": "code",
      "metadata": {
        "id": "hBnft6VV9eXf",
        "colab_type": "code",
        "outputId": "2df090cf-fa02-44c7-becb-c9b6e5903e2b",
        "colab": {
          "base_uri": "https://localhost:8080/",
          "height": 520
        }
      },
      "source": [
        "data = random.normalvariate(0,1)\n",
        "data = [random.normalvariate(0,1) for _ in range(number_of_data_points)]\n",
        "plt.hist(data,bins= 35)"
      ],
      "execution_count": 21,
      "outputs": [
        {
          "output_type": "execute_result",
          "data": {
            "text/plain": [
              "(array([4.000e+00, 9.000e+00, 1.500e+01, 2.500e+01, 5.200e+01, 1.370e+02,\n",
              "        2.310e+02, 4.180e+02, 7.410e+02, 1.188e+03, 1.819e+03, 2.483e+03,\n",
              "        3.394e+03, 4.013e+03, 4.589e+03, 5.090e+03, 5.112e+03, 4.856e+03,\n",
              "        4.235e+03, 3.542e+03, 2.676e+03, 2.033e+03, 1.370e+03, 8.800e+02,\n",
              "        4.960e+02, 3.080e+02, 1.630e+02, 6.200e+01, 2.500e+01, 2.200e+01,\n",
              "        1.000e+01, 0.000e+00, 1.000e+00, 0.000e+00, 1.000e+00]),\n",
              " array([-4.12590887, -3.87049079, -3.61507271, -3.35965462, -3.10423654,\n",
              "        -2.84881846, -2.59340038, -2.3379823 , -2.08256421, -1.82714613,\n",
              "        -1.57172805, -1.31630997, -1.06089188, -0.8054738 , -0.55005572,\n",
              "        -0.29463764, -0.03921955,  0.21619853,  0.47161661,  0.72703469,\n",
              "         0.98245277,  1.23787086,  1.49328894,  1.74870702,  2.0041251 ,\n",
              "         2.25954319,  2.51496127,  2.77037935,  3.02579743,  3.28121551,\n",
              "         3.5366336 ,  3.79205168,  4.04746976,  4.30288784,  4.55830593,\n",
              "         4.81372401]),\n",
              " <a list of 35 Patch objects>)"
            ]
          },
          "metadata": {
            "tags": []
          },
          "execution_count": 21
        },
        {
          "output_type": "display_data",
          "data": {
            "image/png": "[encoded data removed]",
            "text/plain": [
              "<Figure size 432x288 with 1 Axes>"
            ]
          },
          "metadata": {
            "tags": []
          }
        }
      ]
    },
    {
      "cell_type": "code",
      "metadata": {
        "id": "_A1713Sz6YRE",
        "colab_type": "code",
        "colab": {}
      },
      "source": [
        ""
      ],
      "execution_count": 0,
      "outputs": []
    }
  ]
}