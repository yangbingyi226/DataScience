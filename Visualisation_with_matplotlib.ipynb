{
  "nbformat": 4,
  "nbformat_minor": 0,
  "metadata": {
    "colab": {
      "name": "Visualisation with matplotlib.ipynb",
      "provenance": [],
      "include_colab_link": true
    },
    "kernelspec": {
      "name": "python3",
      "display_name": "Python 3"
    }
  },
  "cells": [
    {
      "cell_type": "markdown",
      "metadata": {
        "id": "view-in-github",
        "colab_type": "text"
      },
      "source": [
        "<a href=\"https://colab.research.google.com/github/yangbingyi226/DataScience/blob/master/Visualisation_with_matplotlib.ipynb\" target=\"_parent\"><img src=\"https://colab.research.google.com/assets/colab-badge.svg\" alt=\"Open In Colab\"/></a>"
      ]
    },
    {
      "cell_type": "markdown",
      "metadata": {
        "id": "Q0hWrhcO7tt6",
        "colab_type": "text"
      },
      "source": [
        "# **Visualisation with matplotlib**"
      ]
    },
    {
      "cell_type": "markdown",
      "metadata": {
        "id": "aU3vXxGN71fW",
        "colab_type": "text"
      },
      "source": [
        "## **Creating scatter plots**"
      ]
    },
    {
      "cell_type": "code",
      "metadata": {
        "id": "y7qnr0S27rpy",
        "colab_type": "code",
        "colab": {}
      },
      "source": [
        "xs = range(1, 25)\n",
        "ys = [1 / x for x in xs]"
      ],
      "execution_count": 0,
      "outputs": []
    },
    {
      "cell_type": "code",
      "metadata": {
        "id": "pLCcySL77929",
        "colab_type": "code",
        "colab": {}
      },
      "source": [
        "%matplotlib inline"
      ],
      "execution_count": 0,
      "outputs": []
    },
    {
      "cell_type": "code",
      "metadata": {
        "id": "vwd7eu8Y7_zn",
        "colab_type": "code",
        "colab": {
          "base_uri": "https://localhost:8080/",
          "height": 265
        },
        "outputId": "bde74bf6-c82d-4593-d334-736c94830727"
      },
      "source": [
        "import matplotlib.pyplot as plt\n",
        "plt.scatter(xs, ys);"
      ],
      "execution_count": 3,
      "outputs": [
        {
          "output_type": "display_data",
          "data": {
            "image/png": "[encoded data removed]",
            "text/plain": [
              "<Figure size 432x288 with 1 Axes>"
            ]
          },
          "metadata": {
            "tags": []
          }
        }
      ]
    },
    {
      "cell_type": "code",
      "metadata": {
        "id": "TIfs3Mxn8AnI",
        "colab_type": "code",
        "colab": {}
      },
      "source": [
        "zs = [1 / (25 - x) for x in xs]"
      ],
      "execution_count": 0,
      "outputs": []
    },
    {
      "cell_type": "code",
      "metadata": {
        "id": "331CKf-B8DyL",
        "colab_type": "code",
        "colab": {
          "base_uri": "https://localhost:8080/",
          "height": 265
        },
        "outputId": "d6921bb8-f3ce-42e9-dcd0-0eede57e42e9"
      },
      "source": [
        "plt.scatter(xs, ys)\n",
        "plt.scatter(xs, zs);"
      ],
      "execution_count": 5,
      "outputs": [
        {
          "output_type": "display_data",
          "data": {
            "image/png": "[encoded data removed]",
            "text/plain": [
              "<Figure size 432x288 with 1 Axes>"
            ]
          },
          "metadata": {
            "tags": []
          }
        }
      ]
    },
    {
      "cell_type": "code",
      "metadata": {
        "id": "DeRDbh6v8GGR",
        "colab_type": "code",
        "colab": {
          "base_uri": "https://localhost:8080/",
          "height": 295
        },
        "outputId": "85683c35-dc97-4bfa-8fdd-b7516c4d4f4f"
      },
      "source": [
        "plt.scatter(xs, ys, label=\"$y=\\\\frac{1}{x}$\")\n",
        "plt.scatter(xs, zs, label=\"$y=\\\\frac{1}{25 - x}$\")\n",
        "\n",
        "plt.xlabel(\"$x$\")\n",
        "plt.ylabel(\"Value\")\n",
        "plt.title(\"My scatter plot\")\n",
        "\n",
        "plt.legend();"
      ],
      "execution_count": 6,
      "outputs": [
        {
          "output_type": "display_data",
          "data": {
            "image/png": "[encoded data removed]",
            "text/plain": [
              "<Figure size 432x288 with 1 Axes>"
            ]
          },
          "metadata": {
            "tags": []
          }
        }
      ]
    },
    {
      "cell_type": "markdown",
      "metadata": {
        "id": "pax0Kblk8LSA",
        "colab_type": "text"
      },
      "source": [
        "EXERCISE:\n",
        "Plot a scatter plot with the following $x$, $y$ data:"
      ]
    },
    {
      "cell_type": "code",
      "metadata": {
        "id": "OXkGH-jH8Mwx",
        "colab_type": "code",
        "colab": {}
      },
      "source": [
        "xs = range(200)\n",
        "ys = [(100 - x) ** 2 for x in xs]"
      ],
      "execution_count": 0,
      "outputs": []
    },
    {
      "cell_type": "code",
      "metadata": {
        "id": "i9CojcTh8Qj9",
        "colab_type": "code",
        "colab": {
          "base_uri": "https://localhost:8080/",
          "height": 282
        },
        "outputId": "689af054-e41d-41ec-affd-983054c681ca"
      },
      "source": [
        "plt.scatter(xs, ys)"
      ],
      "execution_count": 8,
      "outputs": [
        {
          "output_type": "execute_result",
          "data": {
            "text/plain": [
              "<matplotlib.collections.PathCollection at 0x7fb2d2492860>"
            ]
          },
          "metadata": {
            "tags": []
          },
          "execution_count": 8
        },
        {
          "output_type": "display_data",
          "data": {
            "image/png": "[encoded data removed]",
            "text/plain": [
              "<Figure size 432x288 with 1 Axes>"
            ]
          },
          "metadata": {
            "tags": []
          }
        }
      ]
    },
    {
      "cell_type": "markdown",
      "metadata": {
        "id": "TuqX1zcJ8eFo",
        "colab_type": "text"
      },
      "source": [
        "## **Creating histograms**"
      ]
    },
    {
      "cell_type": "code",
      "metadata": {
        "id": "mowVJAic8VIO",
        "colab_type": "code",
        "colab": {}
      },
      "source": [
        "import random  # Allows us to create random data\n",
        "number_of_data_points = 50000\n",
        "data = [random.expovariate(lambd=.5) for _ in range(number_of_data_points)]"
      ],
      "execution_count": 0,
      "outputs": []
    },
    {
      "cell_type": "code",
      "metadata": {
        "id": "BOIu3HUQ8reQ",
        "colab_type": "code",
        "colab": {
          "base_uri": "https://localhost:8080/",
          "height": 265
        },
        "outputId": "328ff681-79e4-438b-c279-d34b0cfd384a"
      },
      "source": [
        "plt.hist(data);"
      ],
      "execution_count": 10,
      "outputs": [
        {
          "output_type": "display_data",
          "data": {
            "image/png": "[encoded data removed]",
            "text/plain": [
              "<Figure size 432x288 with 1 Axes>"
            ]
          },
          "metadata": {
            "tags": []
          }
        }
      ]
    },
    {
      "cell_type": "code",
      "metadata": {
        "id": "31BilUeR8toS",
        "colab_type": "code",
        "colab": {
          "base_uri": "https://localhost:8080/",
          "height": 265
        },
        "outputId": "6270833c-09c2-4e73-8d29-2f2d80bfd6c9"
      },
      "source": [
        "plt.hist(data, bins=35, density=True);"
      ],
      "execution_count": 13,
      "outputs": [
        {
          "output_type": "display_data",
          "data": {
            "image/png": "[encoded data removed]",
            "text/plain": [
              "<Figure size 432x288 with 1 Axes>"
            ]
          },
          "metadata": {
            "tags": []
          }
        }
      ]
    },
    {
      "cell_type": "code",
      "metadata": {
        "id": "8TD3OTdR8vli",
        "colab_type": "code",
        "colab": {
          "base_uri": "https://localhost:8080/",
          "height": 265
        },
        "outputId": "4ecf9756-bda7-463a-ce4b-24ea04b973d0"
      },
      "source": [
        "import math\n",
        "\n",
        "lambd = 0.5\n",
        "values = range(16)\n",
        "fs = [lambd * math.exp(- lambd * x ) for x in values]\n",
        "\n",
        "plt.hist(data, bins=35, density=True)\n",
        "plt.plot(values, fs);"
      ],
      "execution_count": 12,
      "outputs": [
        {
          "output_type": "display_data",
          "data": {
            "image/png": "[encoded data removed]",
            "text/plain": [
              "<Figure size 432x288 with 1 Axes>"
            ]
          },
          "metadata": {
            "tags": []
          }
        }
      ]
    },
    {
      "cell_type": "code",
      "metadata": {
        "id": "xa0OKCUh8zNO",
        "colab_type": "code",
        "colab": {
          "base_uri": "https://localhost:8080/",
          "height": 265
        },
        "outputId": "0ed9d7dc-0040-498f-c741-7e652b6720a7"
      },
      "source": [
        "plt.hist(data, bins=35, density=True)\n",
        "plt.plot(values, fs)\n",
        "plt.savefig(\"the-exponential-distribution.pdf\")"
      ],
      "execution_count": 14,
      "outputs": [
        {
          "output_type": "display_data",
          "data": {
            "image/png": "[encoded data removed]",
            "text/plain": [
              "<Figure size 432x288 with 1 Axes>"
            ]
          },
          "metadata": {
            "tags": []
          }
        }
      ]
    },
    {
      "cell_type": "markdown",
      "metadata": {
        "id": "w-yPiKJ_87NW",
        "colab_type": "text"
      },
      "source": [
        "EXERCISE 1 : Using the same code as for the scatter plots: add a title, axes labels and legend to the histogram.\n"
      ]
    },
    {
      "cell_type": "code",
      "metadata": {
        "id": "z1QAnBWQ8_iJ",
        "colab_type": "code",
        "colab": {
          "base_uri": "https://localhost:8080/",
          "height": 295
        },
        "outputId": "d0fc3d65-532a-42bf-8d74-2812d09569ff"
      },
      "source": [
        "plt.hist(data, bins=35, density=True)\n",
        "plt.plot(values, fs, label = 'exp')\n",
        "##plt.savefig(\"the-exponential-distribution.pdf\")\n",
        "\n",
        "plt.xlabel(\"$x$\")\n",
        "plt.ylabel(\"Value\")\n",
        "plt.title(\"My histogram\")\n",
        "\n",
        "plt.legend();"
      ],
      "execution_count": 19,
      "outputs": [
        {
          "output_type": "display_data",
          "data": {
            "image/png": "[encoded data removed]",
            "text/plain": [
              "<Figure size 432x288 with 1 Axes>"
            ]
          },
          "metadata": {
            "tags": []
          }
        }
      ]
    },
    {
      "cell_type": "markdown",
      "metadata": {
        "id": "igrQB4u1_ALT",
        "colab_type": "text"
      },
      "source": [
        "EXERCISE 2 : Draw a histogram for randomly sampled data from the normal distribution (using random.normalvariate).\n"
      ]
    },
    {
      "cell_type": "code",
      "metadata": {
        "id": "hBnft6VV9eXf",
        "colab_type": "code",
        "colab": {
          "base_uri": "https://localhost:8080/",
          "height": 350
        },
        "outputId": "8ee192b8-0f6b-48e3-d258-3a107c42868f"
      },
      "source": [
        "data = random.normalvariate(0,1)\n",
        "plt.hist(data)"
      ],
      "execution_count": 25,
      "outputs": [
        {
          "output_type": "execute_result",
          "data": {
            "text/plain": [
              "(array([0., 0., 0., 0., 0., 1., 0., 0., 0., 0.]),\n",
              " array([-14.97140545, -14.87140545, -14.77140545, -14.67140545,\n",
              "        -14.57140545, -14.47140545, -14.37140545, -14.27140545,\n",
              "        -14.17140545, -14.07140545, -13.97140545]),\n",
              " <a list of 10 Patch objects>)"
            ]
          },
          "metadata": {
            "tags": []
          },
          "execution_count": 25
        },
        {
          "output_type": "display_data",
          "data": {
            "image/png": "[encoded data removed]",
            "text/plain": [
              "<Figure size 432x288 with 1 Axes>"
            ]
          },
          "metadata": {
            "tags": []
          }
        }
      ]
    }
  ]
}