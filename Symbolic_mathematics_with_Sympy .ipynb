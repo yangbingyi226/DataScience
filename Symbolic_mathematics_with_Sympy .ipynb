{
  "nbformat": 4,
  "nbformat_minor": 0,
  "metadata": {
    "colab": {
      "name": "Symbolic mathematics with Sympy.ipynb",
      "provenance": []
    },
    "kernelspec": {
      "name": "python3",
      "display_name": "Python 3"
    }
  },
  "cells": [
    {
      "cell_type": "markdown",
      "metadata": {
        "id": "8_PmCsITuwSW",
        "colab_type": "text"
      },
      "source": [
        "# **Symbolic mathematics with Sympy**"
      ]
    },
    {
      "cell_type": "code",
      "metadata": {
        "id": "l7N2IzlJp3qq",
        "colab_type": "code",
        "colab": {}
      },
      "source": [
        "import sympy as sym"
      ],
      "execution_count": 0,
      "outputs": []
    },
    {
      "cell_type": "code",
      "metadata": {
        "id": "pkCL5ormq5Cm",
        "colab_type": "code",
        "colab": {}
      },
      "source": [
        "x = sym.symbols('x')"
      ],
      "execution_count": 0,
      "outputs": []
    },
    {
      "cell_type": "markdown",
      "metadata": {
        "id": "1S9G_PDQws-_",
        "colab_type": "text"
      },
      "source": [
        "## **Manipulating symbolic expressions**"
      ]
    },
    {
      "cell_type": "code",
      "metadata": {
        "id": "cMYO9tRxq5_g",
        "colab_type": "code",
        "colab": {}
      },
      "source": [
        "a, b = sym.symbols('a, b')"
      ],
      "execution_count": 0,
      "outputs": []
    },
    {
      "cell_type": "code",
      "metadata": {
        "id": "SwKfE7Lbq8l8",
        "colab_type": "code",
        "outputId": "d7548c19-174f-40e5-884d-5457ea581174",
        "colab": {
          "base_uri": "https://localhost:8080/",
          "height": 34
        }
      },
      "source": [
        "expr = (a + b) ** 10 \n",
        "expr"
      ],
      "execution_count": 24,
      "outputs": [
        {
          "output_type": "execute_result",
          "data": {
            "text/plain": [
              "(a + b)**10"
            ]
          },
          "metadata": {
            "tags": []
          },
          "execution_count": 24
        }
      ]
    },
    {
      "cell_type": "code",
      "metadata": {
        "id": "7l477QB6rCtm",
        "colab_type": "code",
        "outputId": "cfbfd55a-7779-40b2-a0a8-6e4aa658a0fb",
        "colab": {
          "base_uri": "https://localhost:8080/",
          "height": 34
        }
      },
      "source": [
        "expr.expand()"
      ],
      "execution_count": 25,
      "outputs": [
        {
          "output_type": "execute_result",
          "data": {
            "text/plain": [
              "a**10 + 10*a**9*b + 45*a**8*b**2 + 120*a**7*b**3 + 210*a**6*b**4 + 252*a**5*b**5 + 210*a**4*b**6 + 120*a**3*b**7 + 45*a**2*b**8 + 10*a*b**9 + b**10"
            ]
          },
          "metadata": {
            "tags": []
          },
          "execution_count": 25
        }
      ]
    },
    {
      "cell_type": "code",
      "metadata": {
        "id": "k-dArbcSrDt-",
        "colab_type": "code",
        "colab": {}
      },
      "source": [
        "a, b, c, x = sym.symbols('a, b, c, x')"
      ],
      "execution_count": 0,
      "outputs": []
    },
    {
      "cell_type": "markdown",
      "metadata": {
        "id": "_lIE6GwYwitu",
        "colab_type": "text"
      },
      "source": [
        "## **Solving symbolic equations**"
      ]
    },
    {
      "cell_type": "code",
      "metadata": {
        "id": "LqWsTxx5v59v",
        "colab_type": "code",
        "colab": {
          "base_uri": "https://localhost:8080/",
          "height": 34
        },
        "outputId": "6a7fd6a2-df4d-4029-9c6a-7eacd36718ac"
      },
      "source": [
        "sym.solveset(a * x ** 2 + b * x + c, x)"
      ],
      "execution_count": 27,
      "outputs": [
        {
          "output_type": "execute_result",
          "data": {
            "text/plain": [
              "{-b/(2*a) - sqrt(-4*a*c + b**2)/(2*a), -b/(2*a) + sqrt(-4*a*c + b**2)/(2*a)}"
            ]
          },
          "metadata": {
            "tags": []
          },
          "execution_count": 27
        }
      ]
    },
    {
      "cell_type": "code",
      "metadata": {
        "id": "78cdRj47v9fR",
        "colab_type": "code",
        "colab": {}
      },
      "source": [
        "a, b ,c =1, -8, 15"
      ],
      "execution_count": 0,
      "outputs": []
    },
    {
      "cell_type": "code",
      "metadata": {
        "id": "-_OL77P1wUZu",
        "colab_type": "code",
        "colab": {
          "base_uri": "https://localhost:8080/",
          "height": 34
        },
        "outputId": "e35c4617-9fbe-4df2-ad21-e5865b363fd4"
      },
      "source": [
        "sym.solveset(a * x ** 2 + b * x + c, x)"
      ],
      "execution_count": 29,
      "outputs": [
        {
          "output_type": "execute_result",
          "data": {
            "text/plain": [
              "{3, 5}"
            ]
          },
          "metadata": {
            "tags": []
          },
          "execution_count": 29
        }
      ]
    },
    {
      "cell_type": "markdown",
      "metadata": {
        "id": "inE1RvsBx0ay",
        "colab_type": "text"
      },
      "source": [
        "## **Plotting with Sympy**"
      ]
    },
    {
      "cell_type": "code",
      "metadata": {
        "id": "DZw16AQawZfs",
        "colab_type": "code",
        "colab": {}
      },
      "source": [
        "%matplotlib inline"
      ],
      "execution_count": 0,
      "outputs": []
    },
    {
      "cell_type": "code",
      "metadata": {
        "id": "RvfS333-x5qp",
        "colab_type": "code",
        "colab": {
          "base_uri": "https://localhost:8080/",
          "height": 278
        },
        "outputId": "346ff64c-afca-4311-946d-d3070e852e2d"
      },
      "source": [
        "expr = x ** 2\n",
        "p = sym.plot(expr);"
      ],
      "execution_count": 31,
      "outputs": [
        {
          "output_type": "display_data",
          "data": {
            "image/png": "[encoded data removed]",
            "text/plain": [
              "<Figure size 432x288 with 1 Axes>"
            ]
          },
          "metadata": {
            "tags": []
          }
        }
      ]
    },
    {
      "cell_type": "code",
      "metadata": {
        "id": "g9NjnKXcyc9d",
        "colab_type": "code",
        "colab": {
          "base_uri": "https://localhost:8080/",
          "height": 257
        },
        "outputId": "0919469a-ef61-47e7-c182-86cec5bbf7bd"
      },
      "source": [
        "x1 = sym.sin(x)\n",
        "p = sym.plot(x1);"
      ],
      "execution_count": 39,
      "outputs": [
        {
          "output_type": "display_data",
          "data": {
            "image/png": "[encoded data removed]",
            "text/plain": [
              "<Figure size 432x288 with 1 Axes>"
            ]
          },
          "metadata": {
            "tags": []
          }
        }
      ]
    },
    {
      "cell_type": "code",
      "metadata": {
        "id": "O2IErNvkyd88",
        "colab_type": "code",
        "colab": {}
      },
      "source": [
        ""
      ],
      "execution_count": 0,
      "outputs": []
    }
  ]
}