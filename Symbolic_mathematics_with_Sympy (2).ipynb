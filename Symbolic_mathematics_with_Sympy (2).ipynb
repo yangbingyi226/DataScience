{
  "nbformat": 4,
  "nbformat_minor": 0,
  "metadata": {
    "colab": {
      "name": "Symbolic mathematics with Sympy.ipynb",
      "provenance": []
    },
    "kernelspec": {
      "name": "python3",
      "display_name": "Python 3"
    }
  },
  "cells": [
    {
      "cell_type": "markdown",
      "metadata": {
        "id": "8_PmCsITuwSW",
        "colab_type": "text"
      },
      "source": [
        "# **Symbolic mathematics with Sympy**"
      ]
    },
    {
      "cell_type": "code",
      "metadata": {
        "id": "l7N2IzlJp3qq",
        "colab_type": "code",
        "colab": {}
      },
      "source": [
        "import sympy as sym"
      ],
      "execution_count": 0,
      "outputs": []
    },
    {
      "cell_type": "code",
      "metadata": {
        "id": "pkCL5ormq5Cm",
        "colab_type": "code",
        "colab": {}
      },
      "source": [
        "x = sym.symbols('x')"
      ],
      "execution_count": 0,
      "outputs": []
    },
    {
      "cell_type": "markdown",
      "metadata": {
        "id": "1S9G_PDQws-_",
        "colab_type": "text"
      },
      "source": [
        "## **Manipulating symbolic expressions**"
      ]
    },
    {
      "cell_type": "code",
      "metadata": {
        "id": "cMYO9tRxq5_g",
        "colab_type": "code",
        "colab": {}
      },
      "source": [
        "a, b = sym.symbols('a, b')"
      ],
      "execution_count": 0,
      "outputs": []
    },
    {
      "cell_type": "code",
      "metadata": {
        "id": "SwKfE7Lbq8l8",
        "colab_type": "code",
        "outputId": "a0a7aa47-feb0-4d9f-8d2a-0a96a0222ba7",
        "colab": {
          "base_uri": "https://localhost:8080/",
          "height": 34
        }
      },
      "source": [
        "expr = (a + b) ** 10 \n",
        "expr"
      ],
      "execution_count": 118,
      "outputs": [
        {
          "output_type": "execute_result",
          "data": {
            "text/plain": [
              "(a + b)**10"
            ]
          },
          "metadata": {
            "tags": []
          },
          "execution_count": 118
        }
      ]
    },
    {
      "cell_type": "code",
      "metadata": {
        "id": "7l477QB6rCtm",
        "colab_type": "code",
        "outputId": "be13ef35-2a9a-4bcd-eeb1-29f82b62cf6c",
        "colab": {
          "base_uri": "https://localhost:8080/",
          "height": 34
        }
      },
      "source": [
        "expr.expand()"
      ],
      "execution_count": 119,
      "outputs": [
        {
          "output_type": "execute_result",
          "data": {
            "text/plain": [
              "a**10 + 10*a**9*b + 45*a**8*b**2 + 120*a**7*b**3 + 210*a**6*b**4 + 252*a**5*b**5 + 210*a**4*b**6 + 120*a**3*b**7 + 45*a**2*b**8 + 10*a*b**9 + b**10"
            ]
          },
          "metadata": {
            "tags": []
          },
          "execution_count": 119
        }
      ]
    },
    {
      "cell_type": "markdown",
      "metadata": {
        "id": "xTqbId-s3itQ",
        "colab_type": "text"
      },
      "source": [
        "EXERCISE :"
      ]
    },
    {
      "cell_type": "code",
      "metadata": {
        "id": "thYdOy6P3aii",
        "colab_type": "code",
        "colab": {
          "base_uri": "https://localhost:8080/",
          "height": 34
        },
        "outputId": "7b28a61a-1e5f-4cd6-e5c4-08147625c3ac"
      },
      "source": [
        "ex1 = (a-b)**2\n",
        "ex1.expand()"
      ],
      "execution_count": 120,
      "outputs": [
        {
          "output_type": "execute_result",
          "data": {
            "text/plain": [
              "a**2 - 2*a*b + b**2"
            ]
          },
          "metadata": {
            "tags": []
          },
          "execution_count": 120
        }
      ]
    },
    {
      "cell_type": "code",
      "metadata": {
        "id": "hGC9csYV3vOt",
        "colab_type": "code",
        "colab": {
          "base_uri": "https://localhost:8080/",
          "height": 34
        },
        "outputId": "53837785-0fda-4db4-fbb5-3686c86dcdd4"
      },
      "source": [
        "ex2 = (a**2-b**2)\n",
        "ex2.factor()"
      ],
      "execution_count": 121,
      "outputs": [
        {
          "output_type": "execute_result",
          "data": {
            "text/plain": [
              "(a - b)*(a + b)"
            ]
          },
          "metadata": {
            "tags": []
          },
          "execution_count": 121
        }
      ]
    },
    {
      "cell_type": "markdown",
      "metadata": {
        "id": "_lIE6GwYwitu",
        "colab_type": "text"
      },
      "source": [
        "## **Solving symbolic equations**"
      ]
    },
    {
      "cell_type": "code",
      "metadata": {
        "id": "k-dArbcSrDt-",
        "colab_type": "code",
        "colab": {}
      },
      "source": [
        "a, b, c, x = sym.symbols('a, b, c, x')"
      ],
      "execution_count": 0,
      "outputs": []
    },
    {
      "cell_type": "code",
      "metadata": {
        "id": "LqWsTxx5v59v",
        "colab_type": "code",
        "colab": {
          "base_uri": "https://localhost:8080/",
          "height": 34
        },
        "outputId": "03b5b4c9-848c-4dc8-f20d-aedeb41ced5c"
      },
      "source": [
        "sym.solveset(a * x ** 2 + b * x + c, x)"
      ],
      "execution_count": 123,
      "outputs": [
        {
          "output_type": "execute_result",
          "data": {
            "text/plain": [
              "{-b/(2*a) - sqrt(-4*a*c + b**2)/(2*a), -b/(2*a) + sqrt(-4*a*c + b**2)/(2*a)}"
            ]
          },
          "metadata": {
            "tags": []
          },
          "execution_count": 123
        }
      ]
    },
    {
      "cell_type": "markdown",
      "metadata": {
        "colab_type": "text",
        "id": "1RXTIZP14esg"
      },
      "source": [
        "EXERCISE :"
      ]
    },
    {
      "cell_type": "code",
      "metadata": {
        "id": "r8XQtq-V4fxD",
        "colab_type": "code",
        "colab": {}
      },
      "source": [
        "a, b, c, d, x = sym.symbols('a, b, c, d, x')"
      ],
      "execution_count": 0,
      "outputs": []
    },
    {
      "cell_type": "code",
      "metadata": {
        "id": "CAEmzXyc5BIq",
        "colab_type": "code",
        "colab": {
          "base_uri": "https://localhost:8080/",
          "height": 54
        },
        "outputId": "78eaf160-11fc-45b3-932a-2cf7450dc936"
      },
      "source": [
        "sym.solveset(a * x ** 3 + b * x **2 + c * x + d, x )"
      ],
      "execution_count": 125,
      "outputs": [
        {
          "output_type": "execute_result",
          "data": {
            "text/plain": [
              "{-(-3*c/a + b**2/a**2)/(3*(sqrt(-4*(-3*c/a + b**2/a**2)**3 + (27*d/a - 9*b*c/a**2 + 2*b**3/a**3)**2)/2 + 27*d/(2*a) - 9*b*c/(2*a**2) + b**3/a**3)**(1/3)) - (sqrt(-4*(-3*c/a + b**2/a**2)**3 + (27*d/a - 9*b*c/a**2 + 2*b**3/a**3)**2)/2 + 27*d/(2*a) - 9*b*c/(2*a**2) + b**3/a**3)**(1/3)/3 - b/(3*a), -(-3*c/a + b**2/a**2)/(3*(-1/2 - sqrt(3)*I/2)*(sqrt(-4*(-3*c/a + b**2/a**2)**3 + (27*d/a - 9*b*c/a**2 + 2*b**3/a**3)**2)/2 + 27*d/(2*a) - 9*b*c/(2*a**2) + b**3/a**3)**(1/3)) - (-1/2 - sqrt(3)*I/2)*(sqrt(-4*(-3*c/a + b**2/a**2)**3 + (27*d/a - 9*b*c/a**2 + 2*b**3/a**3)**2)/2 + 27*d/(2*a) - 9*b*c/(2*a**2) + b**3/a**3)**(1/3)/3 - b/(3*a), -(-3*c/a + b**2/a**2)/(3*(-1/2 + sqrt(3)*I/2)*(sqrt(-4*(-3*c/a + b**2/a**2)**3 + (27*d/a - 9*b*c/a**2 + 2*b**3/a**3)**2)/2 + 27*d/(2*a) - 9*b*c/(2*a**2) + b**3/a**3)**(1/3)) - (-1/2 + sqrt(3)*I/2)*(sqrt(-4*(-3*c/a + b**2/a**2)**3 + (27*d/a - 9*b*c/a**2 + 2*b**3/a**3)**2)/2 + 27*d/(2*a) - 9*b*c/(2*a**2) + b**3/a**3)**(1/3)/3 - b/(3*a)}"
            ]
          },
          "metadata": {
            "tags": []
          },
          "execution_count": 125
        }
      ]
    },
    {
      "cell_type": "code",
      "metadata": {
        "id": "78cdRj47v9fR",
        "colab_type": "code",
        "colab": {}
      },
      "source": [
        "a, b ,c =1, -8, 15"
      ],
      "execution_count": 0,
      "outputs": []
    },
    {
      "cell_type": "code",
      "metadata": {
        "id": "-_OL77P1wUZu",
        "colab_type": "code",
        "colab": {
          "base_uri": "https://localhost:8080/",
          "height": 34
        },
        "outputId": "baf062f8-977c-4ddd-c3c4-1eb19e3c1374"
      },
      "source": [
        "sym.solveset(a * x ** 2 + b * x + c, x)"
      ],
      "execution_count": 127,
      "outputs": [
        {
          "output_type": "execute_result",
          "data": {
            "text/plain": [
              "{3, 5}"
            ]
          },
          "metadata": {
            "tags": []
          },
          "execution_count": 127
        }
      ]
    },
    {
      "cell_type": "markdown",
      "metadata": {
        "id": "r_RpN_En6UQv",
        "colab_type": "text"
      },
      "source": [
        "-------------------------------example to constrain the solution space-----------------------------------------"
      ]
    },
    {
      "cell_type": "code",
      "metadata": {
        "id": "IdCo1tLu5Y-w",
        "colab_type": "code",
        "colab": {
          "base_uri": "https://localhost:8080/",
          "height": 34
        },
        "outputId": "a7c97cab-c204-4dce-8c92-eccdc5b07fe6"
      },
      "source": [
        "sym.solveset(x ** 2 + 1, x, domain=sym.S.Reals)"
      ],
      "execution_count": 128,
      "outputs": [
        {
          "output_type": "execute_result",
          "data": {
            "text/plain": [
              "EmptySet()"
            ]
          },
          "metadata": {
            "tags": []
          },
          "execution_count": 128
        }
      ]
    },
    {
      "cell_type": "markdown",
      "metadata": {
        "colab_type": "text",
        "id": "pWv61fyv5kGN"
      },
      "source": [
        "EXERCISE :"
      ]
    },
    {
      "cell_type": "code",
      "metadata": {
        "id": "-fL5sSNW5umw",
        "colab_type": "code",
        "colab": {
          "base_uri": "https://localhost:8080/",
          "height": 34
        },
        "outputId": "dab3b980-da5f-4be8-95ae-da6ae9f916d7"
      },
      "source": [
        "sym.solveset(x ** 2 - 2, x, domain=sym.S.Naturals)"
      ],
      "execution_count": 129,
      "outputs": [
        {
          "output_type": "execute_result",
          "data": {
            "text/plain": [
              "EmptySet()"
            ]
          },
          "metadata": {
            "tags": []
          },
          "execution_count": 129
        }
      ]
    },
    {
      "cell_type": "code",
      "metadata": {
        "id": "PIZV9f9k5_X5",
        "colab_type": "code",
        "colab": {
          "base_uri": "https://localhost:8080/",
          "height": 34
        },
        "outputId": "113cc6e9-beeb-4949-8f04-8ae54eb7947d"
      },
      "source": [
        "sym.solveset(x ** 3 - 2 * x, x, domain=sym.S.Reals)"
      ],
      "execution_count": 130,
      "outputs": [
        {
          "output_type": "execute_result",
          "data": {
            "text/plain": [
              "{0, -sqrt(2), sqrt(2)}"
            ]
          },
          "metadata": {
            "tags": []
          },
          "execution_count": 130
        }
      ]
    },
    {
      "cell_type": "markdown",
      "metadata": {
        "id": "inE1RvsBx0ay",
        "colab_type": "text"
      },
      "source": [
        "## **Plotting with Sympy**"
      ]
    },
    {
      "cell_type": "code",
      "metadata": {
        "id": "DZw16AQawZfs",
        "colab_type": "code",
        "colab": {}
      },
      "source": [
        "%matplotlib inline"
      ],
      "execution_count": 0,
      "outputs": []
    },
    {
      "cell_type": "code",
      "metadata": {
        "id": "RvfS333-x5qp",
        "colab_type": "code",
        "colab": {
          "base_uri": "https://localhost:8080/",
          "height": 278
        },
        "outputId": "fd65eb6b-25b9-4284-c891-d09eb8c1c94e"
      },
      "source": [
        "expr = x ** 2\n",
        "p = sym.plot(expr);"
      ],
      "execution_count": 132,
      "outputs": [
        {
          "output_type": "display_data",
          "data": {
            "image/png": "[encoded data removed]",
            "text/plain": [
              "<Figure size 432x288 with 1 Axes>"
            ]
          },
          "metadata": {
            "tags": []
          }
        }
      ]
    },
    {
      "cell_type": "code",
      "metadata": {
        "id": "q6oRCaNj63go",
        "colab_type": "code",
        "colab": {
          "base_uri": "https://localhost:8080/",
          "height": 278
        },
        "outputId": "a445888b-d86a-4ff6-f073-2440f50fbc25"
      },
      "source": [
        "p.save(\"x_squared.pdf\");"
      ],
      "execution_count": 133,
      "outputs": [
        {
          "output_type": "display_data",
          "data": {
            "image/png": "[encoded data removed]",
            "text/plain": [
              "<Figure size 432x288 with 1 Axes>"
            ]
          },
          "metadata": {
            "tags": []
          }
        }
      ]
    },
    {
      "cell_type": "markdown",
      "metadata": {
        "colab_type": "text",
        "id": "zw-YaE017BfO"
      },
      "source": [
        "EXERCISE :"
      ]
    },
    {
      "cell_type": "code",
      "metadata": {
        "id": "g9NjnKXcyc9d",
        "colab_type": "code",
        "colab": {
          "base_uri": "https://localhost:8080/",
          "height": 257
        },
        "outputId": "157b5fb3-9feb-4479-a260-82661c285366"
      },
      "source": [
        "x1 = sym.cos(x)\n",
        "x2 = x\n",
        "p = sym.plot(x1 + x2);"
      ],
      "execution_count": 134,
      "outputs": [
        {
          "output_type": "display_data",
          "data": {
            "image/png": "[encoded data removed]",
            "text/plain": [
              "<Figure size 432x288 with 1 Axes>"
            ]
          },
          "metadata": {
            "tags": []
          }
        }
      ]
    },
    {
      "cell_type": "code",
      "metadata": {
        "id": "O2IErNvkyd88",
        "colab_type": "code",
        "colab": {
          "base_uri": "https://localhost:8080/",
          "height": 257
        },
        "outputId": "0f087b6c-9a3f-4bdc-9d8b-891f38bc9460"
      },
      "source": [
        "x1 = x ** 2\n",
        "x2 = -sym.exp(x)\n",
        "p = sym.plot(x1 + x2);"
      ],
      "execution_count": 135,
      "outputs": [
        {
          "output_type": "display_data",
          "data": {
            "image/png": "[encoded data removed]",
            "text/plain": [
              "<Figure size 432x288 with 1 Axes>"
            ]
          },
          "metadata": {
            "tags": []
          }
        }
      ]
    }
  ]
}