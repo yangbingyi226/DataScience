{
  "nbformat": 4,
  "nbformat_minor": 0,
  "metadata": {
    "colab": {
      "name": "5_python基礎統計分析.ipynb",
      "provenance": [],
      "include_colab_link": true
    },
    "kernelspec": {
      "name": "python3",
      "display_name": "Python 3"
    }
  },
  "cells": [
    {
      "cell_type": "markdown",
      "metadata": {
        "id": "view-in-github",
        "colab_type": "text"
      },
      "source": [
        "<a href=\"https://colab.research.google.com/github/yangbingyi226/DataScience/blob/master/5_python%E5%9F%BA%E7%A4%8E%E7%B5%B1%E8%A8%88%E5%88%86%E6%9E%90.ipynb\" target=\"_parent\"><img src=\"https://colab.research.google.com/assets/colab-badge.svg\" alt=\"Open In Colab\"/></a>"
      ]
    },
    {
      "cell_type": "code",
      "metadata": {
        "id": "YysZS_uuxY40",
        "colab_type": "code",
        "colab": {
          "base_uri": "https://localhost:8080/",
          "height": 391
        },
        "outputId": "8c539698-c1d7-4ce1-edc6-4be1bed897a7"
      },
      "source": [
        "!wget https://raw.githubusercontent.com/PacktPublishing/Learning-Pandas-Second-Edition/master/data/sp500.csv\n",
        "!wget https://raw.githubusercontent.com/PacktPublishing/Learning-Pandas-Second-Edition/master/data/omh.csv"
      ],
      "execution_count": 62,
      "outputs": [
        {
          "output_type": "stream",
          "text": [
            "--2019-12-10 03:27:32--  https://raw.githubusercontent.com/PacktPublishing/Learning-Pandas-Second-Edition/master/data/sp500.csv\n",
            "Resolving raw.githubusercontent.com (raw.githubusercontent.com)... 151.101.0.133, 151.101.64.133, 151.101.128.133, ...\n",
            "Connecting to raw.githubusercontent.com (raw.githubusercontent.com)|151.101.0.133|:443... connected.\n",
            "HTTP request sent, awaiting response... 200 OK\n",
            "Length: 83629 (82K) [text/plain]\n",
            "Saving to: ‘sp500.csv.1’\n",
            "\n",
            "\rsp500.csv.1           0%[                    ]       0  --.-KB/s               \rsp500.csv.1         100%[===================>]  81.67K  --.-KB/s    in 0.02s   \n",
            "\n",
            "2019-12-10 03:27:32 (3.24 MB/s) - ‘sp500.csv.1’ saved [83629/83629]\n",
            "\n",
            "--2019-12-10 03:27:33--  https://raw.githubusercontent.com/PacktPublishing/Learning-Pandas-Second-Edition/master/data/omh.csv\n",
            "Resolving raw.githubusercontent.com (raw.githubusercontent.com)... 151.101.0.133, 151.101.64.133, 151.101.128.133, ...\n",
            "Connecting to raw.githubusercontent.com (raw.githubusercontent.com)|151.101.0.133|:443... connected.\n",
            "HTTP request sent, awaiting response... 200 OK\n",
            "Length: 539 [text/plain]\n",
            "Saving to: ‘omh.csv.1’\n",
            "\n",
            "omh.csv.1           100%[===================>]     539  --.-KB/s    in 0s      \n",
            "\n",
            "2019-12-10 03:27:34 (118 MB/s) - ‘omh.csv.1’ saved [539/539]\n",
            "\n"
          ],
          "name": "stdout"
        }
      ]
    },
    {
      "cell_type": "code",
      "metadata": {
        "id": "EBXptNh6w68k",
        "colab_type": "code",
        "colab": {}
      },
      "source": [
        "# -*- coding: utf-8 -*-\n",
        "import numpy as np\n",
        "import pandas as pd"
      ],
      "execution_count": 0,
      "outputs": []
    },
    {
      "cell_type": "code",
      "metadata": {
        "id": "oSkh6aW7xCVL",
        "colab_type": "code",
        "colab": {}
      },
      "source": [
        "# used for dates\n",
        "import datetime\n",
        "from datetime import datetime, date"
      ],
      "execution_count": 0,
      "outputs": []
    },
    {
      "cell_type": "code",
      "metadata": {
        "id": "oECHF73pxDmi",
        "colab_type": "code",
        "colab": {}
      },
      "source": [
        "# Set formattign options\n",
        "pd.set_option('display.notebook_repr_html', False)\n",
        "pd.set_option('display.max_columns', 7)\n",
        "pd.set_option('display.max_rows', 10)\n",
        "pd.set_option('display.width', 60)\n"
      ],
      "execution_count": 0,
      "outputs": []
    },
    {
      "cell_type": "code",
      "metadata": {
        "id": "UcXepaXVxGRt",
        "colab_type": "code",
        "colab": {}
      },
      "source": [
        "# bring in matplotlib for graphics\n",
        "import matplotlib.pyplot as plt\n",
        "# %matplotlib inline"
      ],
      "execution_count": 0,
      "outputs": []
    },
    {
      "cell_type": "code",
      "metadata": {
        "id": "VrbyqUSExO8u",
        "colab_type": "code",
        "colab": {}
      },
      "source": [
        "# read in the data and print the first five rows\n",
        "# use the Symbol column as the index, and \n",
        "# only read in columns in positions 0, 2, 3, 7\n",
        "sp500 = pd.read_csv(\"sp500.csv\", \n",
        "                    index_col='Symbol', \n",
        "                    usecols=[0, 2, 3, 7])"
      ],
      "execution_count": 0,
      "outputs": []
    },
    {
      "cell_type": "code",
      "metadata": {
        "id": "_pWvyDSzxP77",
        "colab_type": "code",
        "colab": {}
      },
      "source": [
        "# one month of stock history data\n",
        "omh = pd.read_csv(\"omh.csv\")"
      ],
      "execution_count": 0,
      "outputs": []
    },
    {
      "cell_type": "markdown",
      "metadata": {
        "id": "cFJAl_BQxiWK",
        "colab_type": "text"
      },
      "source": [
        "# **8.2 對pandas物件執行算術運算**"
      ]
    },
    {
      "cell_type": "markdown",
      "metadata": {
        "id": "tyZhuxUoxnpl",
        "colab_type": "text"
      },
      "source": [
        "## **DataFrame or Series的簡單運算**\n",
        "\n",
        "\n",
        "\n"
      ]
    },
    {
      "cell_type": "code",
      "metadata": {
        "id": "rc2q6_dQxwF-",
        "colab_type": "code",
        "colab": {}
      },
      "source": [
        "# set the seed to allow replicatable results\n",
        "np.random.seed(123456)"
      ],
      "execution_count": 0,
      "outputs": []
    },
    {
      "cell_type": "code",
      "metadata": {
        "id": "OVfaUtXYxzn9",
        "colab_type": "code",
        "colab": {
          "base_uri": "https://localhost:8080/",
          "height": 119
        },
        "outputId": "53041db7-e615-4242-cd99-37940af42d2f"
      },
      "source": [
        "# set the seed to allow replicatable results\n",
        "np.random.seed(123456)\n",
        "# create the DataFrame\n",
        "df = pd.DataFrame(np.random.randn(5, 4), \n",
        "                  columns=['A', 'B', 'C', 'D'])\n",
        "df"
      ],
      "execution_count": 70,
      "outputs": [
        {
          "output_type": "execute_result",
          "data": {
            "text/plain": [
              "          A         B         C         D\n",
              "0  0.469112 -0.282863 -1.509059 -1.135632\n",
              "1  1.212112 -0.173215  0.119209 -1.044236\n",
              "2 -0.861849 -2.104569 -0.494929  1.071804\n",
              "3  0.721555 -0.706771 -1.039575  0.271860\n",
              "4 -0.424972  0.567020  0.276232 -1.087401"
            ]
          },
          "metadata": {
            "tags": []
          },
          "execution_count": 70
        }
      ]
    },
    {
      "cell_type": "code",
      "metadata": {
        "id": "ZFy2Rrh_x1Kb",
        "colab_type": "code",
        "colab": {
          "base_uri": "https://localhost:8080/",
          "height": 119
        },
        "outputId": "36f0120d-8d93-433c-a629-81925964a152"
      },
      "source": [
        "# multiply everything by 2\n",
        "df * 2"
      ],
      "execution_count": 71,
      "outputs": [
        {
          "output_type": "execute_result",
          "data": {
            "text/plain": [
              "          A         B         C         D\n",
              "0  0.938225 -0.565727 -3.018117 -2.271265\n",
              "1  2.424224 -0.346429  0.238417 -2.088472\n",
              "2 -1.723698 -4.209138 -0.989859  2.143608\n",
              "3  1.443110 -1.413542 -2.079150  0.543720\n",
              "4 -0.849945  1.134041  0.552464 -2.174801"
            ]
          },
          "metadata": {
            "tags": []
          },
          "execution_count": 71
        }
      ]
    },
    {
      "cell_type": "code",
      "metadata": {
        "id": "FqFsvVDZx6Lc",
        "colab_type": "code",
        "colab": {}
      },
      "source": [
        "# get first row \n",
        "s = df.iloc[0] "
      ],
      "execution_count": 0,
      "outputs": []
    },
    {
      "cell_type": "code",
      "metadata": {
        "id": "-iSi2BYrx88N",
        "colab_type": "code",
        "colab": {
          "base_uri": "https://localhost:8080/",
          "height": 119
        },
        "outputId": "29d94bf0-c9ea-4475-9817-2dcac5d979e3"
      },
      "source": [
        "# subtract first row from every row of the DataFrame\n",
        "diff = df - s \n",
        "diff"
      ],
      "execution_count": 73,
      "outputs": [
        {
          "output_type": "execute_result",
          "data": {
            "text/plain": [
              "          A         B         C         D\n",
              "0  0.000000  0.000000  0.000000  0.000000\n",
              "1  0.743000  0.109649  1.628267  0.091396\n",
              "2 -1.330961 -1.821706  1.014129  2.207436\n",
              "3  0.252443 -0.423908  0.469484  1.407492\n",
              "4 -0.894085  0.849884  1.785291  0.048232"
            ]
          },
          "metadata": {
            "tags": []
          },
          "execution_count": 73
        }
      ]
    },
    {
      "cell_type": "code",
      "metadata": {
        "id": "HXzer8iZyHfU",
        "colab_type": "code",
        "colab": {
          "base_uri": "https://localhost:8080/",
          "height": 119
        },
        "outputId": "f7f9e8fe-6038-4767-ae96-7821b52fb4b8"
      },
      "source": [
        "# subtract DataFrame from Series\n",
        "diff2 = s - df\n",
        "diff2"
      ],
      "execution_count": 74,
      "outputs": [
        {
          "output_type": "execute_result",
          "data": {
            "text/plain": [
              "          A         B         C         D\n",
              "0  0.000000  0.000000  0.000000  0.000000\n",
              "1 -0.743000 -0.109649 -1.628267 -0.091396\n",
              "2  1.330961  1.821706 -1.014129 -2.207436\n",
              "3 -0.252443  0.423908 -0.469484 -1.407492\n",
              "4  0.894085 -0.849884 -1.785291 -0.048232"
            ]
          },
          "metadata": {
            "tags": []
          },
          "execution_count": 74
        }
      ]
    },
    {
      "cell_type": "code",
      "metadata": {
        "id": "elqJ7rw7yLB1",
        "colab_type": "code",
        "colab": {
          "base_uri": "https://localhost:8080/",
          "height": 119
        },
        "outputId": "5588184c-08fd-4d81-cf3b-a872028fa264"
      },
      "source": [
        "# B, C\n",
        "s2 = s[1:3]\n",
        "# add E\n",
        "s2['E'] = 0\n",
        "# see how alignment is applied in math\n",
        "df + s2"
      ],
      "execution_count": 75,
      "outputs": [
        {
          "output_type": "execute_result",
          "data": {
            "text/plain": [
              "    A         B         C   D   E\n",
              "0 NaN -0.565727 -3.018117 NaN NaN\n",
              "1 NaN -0.456078 -1.389850 NaN NaN\n",
              "2 NaN -2.387433 -2.003988 NaN NaN\n",
              "3 NaN -0.989634 -2.548633 NaN NaN\n",
              "4 NaN  0.284157 -1.232826 NaN NaN"
            ]
          },
          "metadata": {
            "tags": []
          },
          "execution_count": 75
        }
      ]
    },
    {
      "cell_type": "code",
      "metadata": {
        "id": "WQ0ZgGLzyeo0",
        "colab_type": "code",
        "colab": {
          "base_uri": "https://localhost:8080/",
          "height": 85
        },
        "outputId": "93d8e96a-04fc-49c4-c1e1-b1b20c1e3780"
      },
      "source": [
        "# get rows 1 through three, and only B, C columns\n",
        "subframe = df[1:4][['B', 'C']]\n",
        "# we have extracted a little square in the middle of df\n",
        "subframe"
      ],
      "execution_count": 76,
      "outputs": [
        {
          "output_type": "execute_result",
          "data": {
            "text/plain": [
              "          B         C\n",
              "1 -0.173215  0.119209\n",
              "2 -2.104569 -0.494929\n",
              "3 -0.706771 -1.039575"
            ]
          },
          "metadata": {
            "tags": []
          },
          "execution_count": 76
        }
      ]
    },
    {
      "cell_type": "code",
      "metadata": {
        "id": "WgK0iaIDypA9",
        "colab_type": "code",
        "colab": {
          "base_uri": "https://localhost:8080/",
          "height": 119
        },
        "outputId": "95fd54ac-89f2-4d14-e633-fd040a0bc7c2"
      },
      "source": [
        "# demonstrate the alignment of the subtraction\n",
        "df - subframe"
      ],
      "execution_count": 77,
      "outputs": [
        {
          "output_type": "execute_result",
          "data": {
            "text/plain": [
              "    A    B    C   D\n",
              "0 NaN  NaN  NaN NaN\n",
              "1 NaN  0.0  0.0 NaN\n",
              "2 NaN  0.0  0.0 NaN\n",
              "3 NaN  0.0  0.0 NaN\n",
              "4 NaN  NaN  NaN NaN"
            ]
          },
          "metadata": {
            "tags": []
          },
          "execution_count": 77
        }
      ]
    },
    {
      "cell_type": "code",
      "metadata": {
        "id": "kcn5uwOdysT7",
        "colab_type": "code",
        "colab": {
          "base_uri": "https://localhost:8080/",
          "height": 119
        },
        "outputId": "eaa15892-04cd-4a74-e26e-1d3961ef5e26"
      },
      "source": [
        "# get the A column\n",
        "a_col = df['A']\n",
        "df.sub(a_col, axis=0)"
      ],
      "execution_count": 78,
      "outputs": [
        {
          "output_type": "execute_result",
          "data": {
            "text/plain": [
              "     A         B         C         D\n",
              "0  0.0 -0.751976 -1.978171 -1.604745\n",
              "1  0.0 -1.385327 -1.092903 -2.256348\n",
              "2  0.0 -1.242720  0.366920  1.933653\n",
              "3  0.0 -1.428326 -1.761130 -0.449695\n",
              "4  0.0  0.991993  0.701204 -0.662428"
            ]
          },
          "metadata": {
            "tags": []
          },
          "execution_count": 78
        }
      ]
    },
    {
      "cell_type": "markdown",
      "metadata": {
        "id": "_4ZJ4CnJyyjT",
        "colab_type": "text"
      },
      "source": [
        "## **Counts of values**"
      ]
    },
    {
      "cell_type": "code",
      "metadata": {
        "id": "SnPcicz8y4OD",
        "colab_type": "code",
        "colab": {
          "base_uri": "https://localhost:8080/",
          "height": 34
        },
        "outputId": "097e5ed3-d82b-4a91-8ca9-180a4277f848"
      },
      "source": [
        "s = pd.Series(['a', 'a', 'b', 'c', np.NaN])\n",
        "# number of occurrences of each unique value\n",
        "s.count()"
      ],
      "execution_count": 79,
      "outputs": [
        {
          "output_type": "execute_result",
          "data": {
            "text/plain": [
              "4"
            ]
          },
          "metadata": {
            "tags": []
          },
          "execution_count": 79
        }
      ]
    },
    {
      "cell_type": "markdown",
      "metadata": {
        "id": "atCEN-N_y7D0",
        "colab_type": "text"
      },
      "source": [
        "## **Unique and number of unique values**"
      ]
    },
    {
      "cell_type": "code",
      "metadata": {
        "id": "FOHlBuKbzkbk",
        "colab_type": "code",
        "colab": {
          "base_uri": "https://localhost:8080/",
          "height": 34
        },
        "outputId": "24d0c6c8-08bf-4f09-a3cc-f7153e9d15e1"
      },
      "source": [
        "# return a list of unique items\n",
        "s.unique()\n",
        "\n",
        "s.nunique()\n",
        "\n",
        "s.nunique(dropna=False)"
      ],
      "execution_count": 80,
      "outputs": [
        {
          "output_type": "execute_result",
          "data": {
            "text/plain": [
              "4"
            ]
          },
          "metadata": {
            "tags": []
          },
          "execution_count": 80
        }
      ]
    },
    {
      "cell_type": "markdown",
      "metadata": {
        "id": "zxxe5byPy_13",
        "colab_type": "text"
      },
      "source": [
        "## **get summary stats on non-numeric data**"
      ]
    },
    {
      "cell_type": "code",
      "metadata": {
        "id": "U92jMJchzoKs",
        "colab_type": "code",
        "colab": {
          "base_uri": "https://localhost:8080/",
          "height": 102
        },
        "outputId": "e8441ad1-e749-477f-ad29-a5bef93babf0"
      },
      "source": [
        "s.value_counts(dropna=False)"
      ],
      "execution_count": 81,
      "outputs": [
        {
          "output_type": "execute_result",
          "data": {
            "text/plain": [
              "a      2\n",
              "c      1\n",
              "b      1\n",
              "NaN    1\n",
              "dtype: int64"
            ]
          },
          "metadata": {
            "tags": []
          },
          "execution_count": 81
        }
      ]
    },
    {
      "cell_type": "markdown",
      "metadata": {
        "id": "wqc9whwRzCqE",
        "colab_type": "text"
      },
      "source": [
        "## **Minimum and maximums**"
      ]
    },
    {
      "cell_type": "code",
      "metadata": {
        "id": "C4zT3r0Vzp1S",
        "colab_type": "code",
        "colab": {
          "base_uri": "https://localhost:8080/",
          "height": 68
        },
        "outputId": "b9dbfcb3-3308-44f3-b8dd-9b9195fbbcc2"
      },
      "source": [
        "# location of min price for both stocks\n",
        "omh[['MSFT', 'AAPL']].min()"
      ],
      "execution_count": 82,
      "outputs": [
        {
          "output_type": "execute_result",
          "data": {
            "text/plain": [
              "MSFT     45.16\n",
              "AAPL    106.75\n",
              "dtype: float64"
            ]
          },
          "metadata": {
            "tags": []
          },
          "execution_count": 82
        }
      ]
    },
    {
      "cell_type": "code",
      "metadata": {
        "id": "riJz30F0zw6L",
        "colab_type": "code",
        "colab": {
          "base_uri": "https://localhost:8080/",
          "height": 68
        },
        "outputId": "ade85ef8-f9d7-49ee-cf33-97caf124e451"
      },
      "source": [
        "# and location of the max\n",
        "omh[['MSFT', 'AAPL']].max()"
      ],
      "execution_count": 83,
      "outputs": [
        {
          "output_type": "execute_result",
          "data": {
            "text/plain": [
              "MSFT     48.84\n",
              "AAPL    115.93\n",
              "dtype: float64"
            ]
          },
          "metadata": {
            "tags": []
          },
          "execution_count": 83
        }
      ]
    },
    {
      "cell_type": "code",
      "metadata": {
        "id": "1DHbVfATzyfG",
        "colab_type": "code",
        "colab": {
          "base_uri": "https://localhost:8080/",
          "height": 68
        },
        "outputId": "967880a1-fd07-4ada-ec61-ca1a60309181"
      },
      "source": [
        "# location of min price for both stocks\n",
        "omh[['MSFT', 'AAPL']].idxmin()"
      ],
      "execution_count": 84,
      "outputs": [
        {
          "output_type": "execute_result",
          "data": {
            "text/plain": [
              "MSFT    11\n",
              "AAPL    11\n",
              "dtype: int64"
            ]
          },
          "metadata": {
            "tags": []
          },
          "execution_count": 84
        }
      ]
    },
    {
      "cell_type": "code",
      "metadata": {
        "id": "ebeCnV35zymU",
        "colab_type": "code",
        "colab": {
          "base_uri": "https://localhost:8080/",
          "height": 68
        },
        "outputId": "8b9cf64e-9098-4a43-f7b0-fcc3b14076cd"
      },
      "source": [
        "# and location of the max\n",
        "omh[['MSFT', 'AAPL']].idxmax()"
      ],
      "execution_count": 85,
      "outputs": [
        {
          "output_type": "execute_result",
          "data": {
            "text/plain": [
              "MSFT    3\n",
              "AAPL    2\n",
              "dtype: int64"
            ]
          },
          "metadata": {
            "tags": []
          },
          "execution_count": 85
        }
      ]
    },
    {
      "cell_type": "markdown",
      "metadata": {
        "id": "MSRz6ZykzE19",
        "colab_type": "text"
      },
      "source": [
        "## **Smallest and Largest Values**"
      ]
    },
    {
      "cell_type": "code",
      "metadata": {
        "id": "Ef1X6-bczs6E",
        "colab_type": "code",
        "colab": {
          "base_uri": "https://localhost:8080/",
          "height": 102
        },
        "outputId": "5f0d6f12-3acf-4a92-950c-2c734423eb28"
      },
      "source": [
        "# get the 4 smallest values\n",
        "omh.nsmallest(4, ['MSFT'])['MSFT']"
      ],
      "execution_count": 86,
      "outputs": [
        {
          "output_type": "execute_result",
          "data": {
            "text/plain": [
              "11    45.16\n",
              "12    45.74\n",
              "21    46.45\n",
              "10    46.67\n",
              "Name: MSFT, dtype: float64"
            ]
          },
          "metadata": {
            "tags": []
          },
          "execution_count": 86
        }
      ]
    },
    {
      "cell_type": "code",
      "metadata": {
        "id": "8iReCTvsz31X",
        "colab_type": "code",
        "colab": {
          "base_uri": "https://localhost:8080/",
          "height": 102
        },
        "outputId": "b948b029-119f-4f2d-a4e0-fe6afbe7d3ee"
      },
      "source": [
        "# get the 4 largest values\n",
        "omh.nlargest(4, ['MSFT'])['MSFT']"
      ],
      "execution_count": 87,
      "outputs": [
        {
          "output_type": "execute_result",
          "data": {
            "text/plain": [
              "3     48.84\n",
              "0     48.62\n",
              "1     48.46\n",
              "16    48.45\n",
              "Name: MSFT, dtype: float64"
            ]
          },
          "metadata": {
            "tags": []
          },
          "execution_count": 87
        }
      ]
    },
    {
      "cell_type": "code",
      "metadata": {
        "id": "8AWnpXjwz358",
        "colab_type": "code",
        "colab": {
          "base_uri": "https://localhost:8080/",
          "height": 102
        },
        "outputId": "af506b43-203d-4b8d-ea74-e13967f525db"
      },
      "source": [
        "# nsmallest on a Series\n",
        "omh.MSFT.nsmallest(4)"
      ],
      "execution_count": 88,
      "outputs": [
        {
          "output_type": "execute_result",
          "data": {
            "text/plain": [
              "11    45.16\n",
              "12    45.74\n",
              "21    46.45\n",
              "10    46.67\n",
              "Name: MSFT, dtype: float64"
            ]
          },
          "metadata": {
            "tags": []
          },
          "execution_count": 88
        }
      ]
    },
    {
      "cell_type": "markdown",
      "metadata": {
        "id": "k5ezDukOzKpW",
        "colab_type": "text"
      },
      "source": [
        "## **Accumulations**"
      ]
    },
    {
      "cell_type": "code",
      "metadata": {
        "id": "st18El0Vz9cs",
        "colab_type": "code",
        "colab": {
          "base_uri": "https://localhost:8080/",
          "height": 102
        },
        "outputId": "f6112b04-ca94-4ecd-ef23-6c3f32484cf6"
      },
      "source": [
        "# calculate a cumulative product\n",
        "pd.Series([1, 2, 3, 4]).cumprod()"
      ],
      "execution_count": 89,
      "outputs": [
        {
          "output_type": "execute_result",
          "data": {
            "text/plain": [
              "0     1\n",
              "1     2\n",
              "2     6\n",
              "3    24\n",
              "dtype: int64"
            ]
          },
          "metadata": {
            "tags": []
          },
          "execution_count": 89
        }
      ]
    },
    {
      "cell_type": "code",
      "metadata": {
        "id": "e3v9AxYBz_Fm",
        "colab_type": "code",
        "colab": {
          "base_uri": "https://localhost:8080/",
          "height": 102
        },
        "outputId": "cb220aab-e8ea-4afe-f569-3db926c20614"
      },
      "source": [
        "# calculate a cumulative sum\n",
        "pd.Series([1, 2, 3, 4]).cumsum()"
      ],
      "execution_count": 90,
      "outputs": [
        {
          "output_type": "execute_result",
          "data": {
            "text/plain": [
              "0     1\n",
              "1     3\n",
              "2     6\n",
              "3    10\n",
              "dtype: int64"
            ]
          },
          "metadata": {
            "tags": []
          },
          "execution_count": 90
        }
      ]
    },
    {
      "cell_type": "markdown",
      "metadata": {
        "id": "uK-1DxPa0liG",
        "colab_type": "text"
      },
      "source": [
        "# **8.3 描述統計學descriptive statistics**"
      ]
    },
    {
      "cell_type": "markdown",
      "metadata": {
        "id": "IDW6hRAE0prt",
        "colab_type": "text"
      },
      "source": [
        "## **get summary statistics for the stock data**"
      ]
    },
    {
      "cell_type": "code",
      "metadata": {
        "id": "CG0OcwTk09Ak",
        "colab_type": "code",
        "colab": {
          "base_uri": "https://localhost:8080/",
          "height": 170
        },
        "outputId": "674bdc18-adf4-4803-b761-acaf8762e4d9"
      },
      "source": [
        "omh.describe()"
      ],
      "execution_count": 91,
      "outputs": [
        {
          "output_type": "execute_result",
          "data": {
            "text/plain": [
              "            MSFT        AAPL\n",
              "count  22.000000   22.000000\n",
              "mean   47.493182  112.411364\n",
              "std     0.933077    2.388772\n",
              "min    45.160000  106.750000\n",
              "25%    46.967500  111.660000\n",
              "50%    47.625000  112.530000\n",
              "75%    48.125000  114.087500\n",
              "max    48.840000  115.930000"
            ]
          },
          "metadata": {
            "tags": []
          },
          "execution_count": 91
        }
      ]
    },
    {
      "cell_type": "markdown",
      "metadata": {
        "id": "QWOqySTR0pw_",
        "colab_type": "text"
      },
      "source": [
        "## **just the stats for MSFT**"
      ]
    },
    {
      "cell_type": "code",
      "metadata": {
        "id": "lNsmGks60-fI",
        "colab_type": "code",
        "colab": {
          "base_uri": "https://localhost:8080/",
          "height": 170
        },
        "outputId": "ed59baf5-e4af-469b-a572-0db71c42b509"
      },
      "source": [
        "omh.MSFT.describe()"
      ],
      "execution_count": 92,
      "outputs": [
        {
          "output_type": "execute_result",
          "data": {
            "text/plain": [
              "count    22.000000\n",
              "mean     47.493182\n",
              "std       0.933077\n",
              "min      45.160000\n",
              "25%      46.967500\n",
              "50%      47.625000\n",
              "75%      48.125000\n",
              "max      48.840000\n",
              "Name: MSFT, dtype: float64"
            ]
          },
          "metadata": {
            "tags": []
          },
          "execution_count": 92
        }
      ]
    },
    {
      "cell_type": "markdown",
      "metadata": {
        "id": "0AZha5na0p3O",
        "colab_type": "text"
      },
      "source": [
        "## **only the mean for MSFT**"
      ]
    },
    {
      "cell_type": "code",
      "metadata": {
        "id": "99SKqyzO1AF-",
        "colab_type": "code",
        "colab": {
          "base_uri": "https://localhost:8080/",
          "height": 34
        },
        "outputId": "f92e6f2b-22b8-4ad4-c569-87b76a23ae44"
      },
      "source": [
        "omh.MSFT.describe()['mean']"
      ],
      "execution_count": 93,
      "outputs": [
        {
          "output_type": "execute_result",
          "data": {
            "text/plain": [
              "47.49318181818182"
            ]
          },
          "metadata": {
            "tags": []
          },
          "execution_count": 93
        }
      ]
    },
    {
      "cell_type": "markdown",
      "metadata": {
        "id": "s61jE7dx0yJ6",
        "colab_type": "text"
      },
      "source": [
        "## **get summary stats on non-numeric data**"
      ]
    },
    {
      "cell_type": "code",
      "metadata": {
        "id": "VL8d0RMU1BYf",
        "colab_type": "code",
        "colab": {
          "base_uri": "https://localhost:8080/",
          "height": 102
        },
        "outputId": "d092b25b-cc8d-480a-f66d-33abaa694927"
      },
      "source": [
        "s = pd.Series(['a', 'a', 'b', 'c', np.NaN])\n",
        "s.describe()"
      ],
      "execution_count": 94,
      "outputs": [
        {
          "output_type": "execute_result",
          "data": {
            "text/plain": [
              "count     4\n",
              "unique    3\n",
              "top       a\n",
              "freq      2\n",
              "dtype: object"
            ]
          },
          "metadata": {
            "tags": []
          },
          "execution_count": 94
        }
      ]
    },
    {
      "cell_type": "markdown",
      "metadata": {
        "id": "NtiU0-jo1IzT",
        "colab_type": "text"
      },
      "source": [
        "# **8.3.2.集中趨勢:**"
      ]
    },
    {
      "cell_type": "markdown",
      "metadata": {
        "id": "1K-Wr5Z_1Kvf",
        "colab_type": "text"
      },
      "source": [
        "## **Mean平均值**"
      ]
    },
    {
      "cell_type": "code",
      "metadata": {
        "id": "fcf_Wnu11M5A",
        "colab_type": "code",
        "colab": {
          "base_uri": "https://localhost:8080/",
          "height": 119
        },
        "outputId": "98b60e20-ce47-4da6-9a05-2ff889793dcb"
      },
      "source": [
        "# the mean of all the columns in omh\n",
        "omh.mean()\n",
        "\n",
        "# calc the mean of the values in each row\n",
        "omh.mean(axis=1)[:5]"
      ],
      "execution_count": 95,
      "outputs": [
        {
          "output_type": "execute_result",
          "data": {
            "text/plain": [
              "0    81.845\n",
              "1    81.545\n",
              "2    82.005\n",
              "3    82.165\n",
              "4    81.710\n",
              "dtype: float64"
            ]
          },
          "metadata": {
            "tags": []
          },
          "execution_count": 95
        }
      ]
    },
    {
      "cell_type": "markdown",
      "metadata": {
        "id": "5QNKm0-d1OSA",
        "colab_type": "text"
      },
      "source": [
        "## **Median中位數**"
      ]
    },
    {
      "cell_type": "code",
      "metadata": {
        "id": "rB7YcyAe1Ws2",
        "colab_type": "code",
        "colab": {
          "base_uri": "https://localhost:8080/",
          "height": 68
        },
        "outputId": "be800e0d-cd3c-409e-bb94-78d7696faf78"
      },
      "source": [
        "# calc the median of the values in each column\n",
        "omh.median()"
      ],
      "execution_count": 96,
      "outputs": [
        {
          "output_type": "execute_result",
          "data": {
            "text/plain": [
              "MSFT     47.625\n",
              "AAPL    112.530\n",
              "dtype: float64"
            ]
          },
          "metadata": {
            "tags": []
          },
          "execution_count": 96
        }
      ]
    },
    {
      "cell_type": "markdown",
      "metadata": {
        "id": "GDd1nzLH1Qm3",
        "colab_type": "text"
      },
      "source": [
        "## **Mode眾數**"
      ]
    },
    {
      "cell_type": "code",
      "metadata": {
        "id": "DmFUX37F1YvE",
        "colab_type": "code",
        "colab": {
          "base_uri": "https://localhost:8080/",
          "height": 68
        },
        "outputId": "a774be10-9e81-471e-9d33-3c144fa7ea1e"
      },
      "source": [
        "# find the mode of this Series\n",
        "s = pd.Series([1, 2, 3, 3, 5])\n",
        "s.mode()\n",
        "\n",
        "# there can be more than one mode\n",
        "s = pd.Series([1, 2, 3, 3, 5, 1])\n",
        "s.mode()"
      ],
      "execution_count": 97,
      "outputs": [
        {
          "output_type": "execute_result",
          "data": {
            "text/plain": [
              "0    1\n",
              "1    3\n",
              "dtype: int64"
            ]
          },
          "metadata": {
            "tags": []
          },
          "execution_count": 97
        }
      ]
    },
    {
      "cell_type": "markdown",
      "metadata": {
        "id": "7NU81mkz1bBn",
        "colab_type": "text"
      },
      "source": [
        "# **8.3.3.離散趨勢**"
      ]
    },
    {
      "cell_type": "markdown",
      "metadata": {
        "id": "JTciHVxc1dni",
        "colab_type": "text"
      },
      "source": [
        "## **Variance變異數**"
      ]
    },
    {
      "cell_type": "code",
      "metadata": {
        "id": "Uz70wx6k1r3V",
        "colab_type": "code",
        "colab": {
          "base_uri": "https://localhost:8080/",
          "height": 68
        },
        "outputId": "3fbedb15-ca39-49cc-a41b-f938b06ba540"
      },
      "source": [
        "# calc the variance of the values in each column\n",
        "omh.var()\n",
        "\n",
        "# Standard Deviation標準差\n",
        "\n",
        "# standard deviation\n",
        "omh.std()"
      ],
      "execution_count": 98,
      "outputs": [
        {
          "output_type": "execute_result",
          "data": {
            "text/plain": [
              "MSFT    0.933077\n",
              "AAPL    2.388772\n",
              "dtype: float64"
            ]
          },
          "metadata": {
            "tags": []
          },
          "execution_count": 98
        }
      ]
    },
    {
      "cell_type": "markdown",
      "metadata": {
        "id": "vrSJZINy1ito",
        "colab_type": "text"
      },
      "source": [
        "## **Covariane共變數**"
      ]
    },
    {
      "cell_type": "code",
      "metadata": {
        "id": "_gNCxAqU1uau",
        "colab_type": "code",
        "colab": {
          "base_uri": "https://localhost:8080/",
          "height": 34
        },
        "outputId": "b1ae4863-ba84-44b2-a930-3b5d4060b3df"
      },
      "source": [
        "# covariance of MSFT vs AAPL\n",
        "omh.MSFT.cov(omh.AAPL)"
      ],
      "execution_count": 99,
      "outputs": [
        {
          "output_type": "execute_result",
          "data": {
            "text/plain": [
              "1.9261240259740264"
            ]
          },
          "metadata": {
            "tags": []
          },
          "execution_count": 99
        }
      ]
    },
    {
      "cell_type": "markdown",
      "metadata": {
        "id": "Jpi4U-_g2U40",
        "colab_type": "text"
      },
      "source": [
        "# **隨堂測驗**"
      ]
    },
    {
      "cell_type": "markdown",
      "metadata": {
        "id": "PF2nKcUM2ery",
        "colab_type": "text"
      },
      "source": [
        "A班同學的資安課程分數如下:60,59,61,62,58,60\n",
        "\n",
        "B班同學的資安課程分數如下:60,54,66,71,49,60\n",
        "\n",
        "計算每班的描述統計"
      ]
    },
    {
      "cell_type": "code",
      "metadata": {
        "id": "HtxpzUB62mil",
        "colab_type": "code",
        "colab": {}
      },
      "source": [
        "A = pd.Series([60, 59, 61, 62, 60])\n",
        "B = pd.Series([60, 54, 66, 71, 60])"
      ],
      "execution_count": 0,
      "outputs": []
    },
    {
      "cell_type": "code",
      "metadata": {
        "id": "YI5Z4R9v5huh",
        "colab_type": "code",
        "colab": {
          "base_uri": "https://localhost:8080/",
          "height": 170
        },
        "outputId": "9fb22a34-9756-4565-b238-dd8c5bb74f4d"
      },
      "source": [
        "A.describe()"
      ],
      "execution_count": 112,
      "outputs": [
        {
          "output_type": "execute_result",
          "data": {
            "text/plain": [
              "count     5.000000\n",
              "mean     60.400000\n",
              "std       1.140175\n",
              "min      59.000000\n",
              "25%      60.000000\n",
              "50%      60.000000\n",
              "75%      61.000000\n",
              "max      62.000000\n",
              "dtype: float64"
            ]
          },
          "metadata": {
            "tags": []
          },
          "execution_count": 112
        }
      ]
    },
    {
      "cell_type": "code",
      "metadata": {
        "id": "KAwvcYtP5jTS",
        "colab_type": "code",
        "colab": {
          "base_uri": "https://localhost:8080/",
          "height": 170
        },
        "outputId": "07799748-75fb-4064-95b7-4a1e92270806"
      },
      "source": [
        "B.describe()"
      ],
      "execution_count": 113,
      "outputs": [
        {
          "output_type": "execute_result",
          "data": {
            "text/plain": [
              "count     5.000000\n",
              "mean     62.200000\n",
              "std       6.496153\n",
              "min      54.000000\n",
              "25%      60.000000\n",
              "50%      60.000000\n",
              "75%      66.000000\n",
              "max      71.000000\n",
              "dtype: float64"
            ]
          },
          "metadata": {
            "tags": []
          },
          "execution_count": 113
        }
      ]
    },
    {
      "cell_type": "code",
      "metadata": {
        "id": "zSEtRRJz5k3C",
        "colab_type": "code",
        "colab": {}
      },
      "source": [
        ""
      ],
      "execution_count": 0,
      "outputs": []
    }
  ]
}